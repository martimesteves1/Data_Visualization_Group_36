{
 "cells": [
  {
   "cell_type": "code",
   "execution_count": 1,
   "id": "b024e6fc",
   "metadata": {},
   "outputs": [],
   "source": [
    "import pandas as pd\n",
    "\n",
    "smokers = pd.read_csv('Daily_smokers.csv')"
   ]
  },
  {
   "cell_type": "code",
   "execution_count": 2,
   "id": "454928ef",
   "metadata": {},
   "outputs": [
    {
     "data": {
      "text/html": [
       "<svg  width=\"275\" height=\"55\"><rect x=\"0\" y=\"0\" width=\"55\" height=\"55\" style=\"fill:#edf8fb;stroke-width:2;stroke:rgb(255,255,255)\"/><rect x=\"55\" y=\"0\" width=\"55\" height=\"55\" style=\"fill:#b3cde3;stroke-width:2;stroke:rgb(255,255,255)\"/><rect x=\"110\" y=\"0\" width=\"55\" height=\"55\" style=\"fill:#8c96c6;stroke-width:2;stroke:rgb(255,255,255)\"/><rect x=\"165\" y=\"0\" width=\"55\" height=\"55\" style=\"fill:#8856a7;stroke-width:2;stroke:rgb(255,255,255)\"/><rect x=\"220\" y=\"0\" width=\"55\" height=\"55\" style=\"fill:#810f7c;stroke-width:2;stroke:rgb(255,255,255)\"/></svg>"
      ],
      "text/plain": [
       "[(0.9294117647058824, 0.9725490196078431, 0.984313725490196),\n",
       " (0.7019607843137254, 0.803921568627451, 0.8901960784313725),\n",
       " (0.5490196078431373, 0.5882352941176471, 0.7764705882352941),\n",
       " (0.5333333333333333, 0.33725490196078434, 0.6549019607843137),\n",
       " (0.5058823529411764, 0.058823529411764705, 0.48627450980392156)]"
      ]
     },
     "metadata": {},
     "output_type": "display_data"
    }
   ],
   "source": [
    "import matplotlib.pyplot as plt\n",
    "import seaborn as sns\n",
    "\n",
    "color_pallete = [\"#edf8fb\", \"#b3cde3\", \"#8c96c6\", \"#8856a7\",\n",
    "                 \"#810f7c\"]\n",
    "\n",
    "sns.set_style(\"dark\")\n",
    "display(sns.color_palette(color_pallete))\n",
    "\n",
    "sns.set_palette(sns.color_palette(color_pallete))"
   ]
  },
  {
   "cell_type": "code",
   "execution_count": 3,
   "id": "4e68db15",
   "metadata": {},
   "outputs": [
    {
     "data": {
      "text/html": [
       "<div>\n",
       "<style scoped>\n",
       "    .dataframe tbody tr th:only-of-type {\n",
       "        vertical-align: middle;\n",
       "    }\n",
       "\n",
       "    .dataframe tbody tr th {\n",
       "        vertical-align: top;\n",
       "    }\n",
       "\n",
       "    .dataframe thead th {\n",
       "        text-align: right;\n",
       "    }\n",
       "</style>\n",
       "<table border=\"1\" class=\"dataframe\">\n",
       "  <thead>\n",
       "    <tr style=\"text-align: right;\">\n",
       "      <th></th>\n",
       "      <th>LOCATION</th>\n",
       "      <th>INDICATOR</th>\n",
       "      <th>SUBJECT</th>\n",
       "      <th>MEASURE</th>\n",
       "      <th>FREQUENCY</th>\n",
       "      <th>TIME</th>\n",
       "      <th>Value</th>\n",
       "      <th>Flag Codes</th>\n",
       "    </tr>\n",
       "  </thead>\n",
       "  <tbody>\n",
       "    <tr>\n",
       "      <th>0</th>\n",
       "      <td>AUS</td>\n",
       "      <td>SMOKERS</td>\n",
       "      <td>TOT</td>\n",
       "      <td>PC_POP15</td>\n",
       "      <td>A</td>\n",
       "      <td>1964</td>\n",
       "      <td>43.0</td>\n",
       "      <td>NaN</td>\n",
       "    </tr>\n",
       "    <tr>\n",
       "      <th>1</th>\n",
       "      <td>AUS</td>\n",
       "      <td>SMOKERS</td>\n",
       "      <td>TOT</td>\n",
       "      <td>PC_POP15</td>\n",
       "      <td>A</td>\n",
       "      <td>1966</td>\n",
       "      <td>40.0</td>\n",
       "      <td>NaN</td>\n",
       "    </tr>\n",
       "    <tr>\n",
       "      <th>2</th>\n",
       "      <td>AUS</td>\n",
       "      <td>SMOKERS</td>\n",
       "      <td>TOT</td>\n",
       "      <td>PC_POP15</td>\n",
       "      <td>A</td>\n",
       "      <td>1969</td>\n",
       "      <td>37.0</td>\n",
       "      <td>NaN</td>\n",
       "    </tr>\n",
       "    <tr>\n",
       "      <th>3</th>\n",
       "      <td>AUS</td>\n",
       "      <td>SMOKERS</td>\n",
       "      <td>TOT</td>\n",
       "      <td>PC_POP15</td>\n",
       "      <td>A</td>\n",
       "      <td>1974</td>\n",
       "      <td>37.8</td>\n",
       "      <td>NaN</td>\n",
       "    </tr>\n",
       "    <tr>\n",
       "      <th>4</th>\n",
       "      <td>AUS</td>\n",
       "      <td>SMOKERS</td>\n",
       "      <td>TOT</td>\n",
       "      <td>PC_POP15</td>\n",
       "      <td>A</td>\n",
       "      <td>1976</td>\n",
       "      <td>38.4</td>\n",
       "      <td>NaN</td>\n",
       "    </tr>\n",
       "    <tr>\n",
       "      <th>...</th>\n",
       "      <td>...</td>\n",
       "      <td>...</td>\n",
       "      <td>...</td>\n",
       "      <td>...</td>\n",
       "      <td>...</td>\n",
       "      <td>...</td>\n",
       "      <td>...</td>\n",
       "      <td>...</td>\n",
       "    </tr>\n",
       "    <tr>\n",
       "      <th>2705</th>\n",
       "      <td>ROU</td>\n",
       "      <td>SMOKERS</td>\n",
       "      <td>TOT</td>\n",
       "      <td>PC_POP15</td>\n",
       "      <td>A</td>\n",
       "      <td>2014</td>\n",
       "      <td>19.8</td>\n",
       "      <td>NaN</td>\n",
       "    </tr>\n",
       "    <tr>\n",
       "      <th>2706</th>\n",
       "      <td>ROU</td>\n",
       "      <td>SMOKERS</td>\n",
       "      <td>TOT</td>\n",
       "      <td>PC_POP15</td>\n",
       "      <td>A</td>\n",
       "      <td>2019</td>\n",
       "      <td>18.7</td>\n",
       "      <td>NaN</td>\n",
       "    </tr>\n",
       "    <tr>\n",
       "      <th>2707</th>\n",
       "      <td>ROU</td>\n",
       "      <td>SMOKERS</td>\n",
       "      <td>WOMEN</td>\n",
       "      <td>PC_POP15</td>\n",
       "      <td>A</td>\n",
       "      <td>2008</td>\n",
       "      <td>9.1</td>\n",
       "      <td>NaN</td>\n",
       "    </tr>\n",
       "    <tr>\n",
       "      <th>2708</th>\n",
       "      <td>ROU</td>\n",
       "      <td>SMOKERS</td>\n",
       "      <td>WOMEN</td>\n",
       "      <td>PC_POP15</td>\n",
       "      <td>A</td>\n",
       "      <td>2014</td>\n",
       "      <td>8.3</td>\n",
       "      <td>NaN</td>\n",
       "    </tr>\n",
       "    <tr>\n",
       "      <th>2709</th>\n",
       "      <td>ROU</td>\n",
       "      <td>SMOKERS</td>\n",
       "      <td>WOMEN</td>\n",
       "      <td>PC_POP15</td>\n",
       "      <td>A</td>\n",
       "      <td>2019</td>\n",
       "      <td>7.5</td>\n",
       "      <td>NaN</td>\n",
       "    </tr>\n",
       "  </tbody>\n",
       "</table>\n",
       "<p>2710 rows × 8 columns</p>\n",
       "</div>"
      ],
      "text/plain": [
       "     LOCATION INDICATOR SUBJECT   MEASURE FREQUENCY  TIME  Value Flag Codes\n",
       "0         AUS   SMOKERS     TOT  PC_POP15         A  1964   43.0        NaN\n",
       "1         AUS   SMOKERS     TOT  PC_POP15         A  1966   40.0        NaN\n",
       "2         AUS   SMOKERS     TOT  PC_POP15         A  1969   37.0        NaN\n",
       "3         AUS   SMOKERS     TOT  PC_POP15         A  1974   37.8        NaN\n",
       "4         AUS   SMOKERS     TOT  PC_POP15         A  1976   38.4        NaN\n",
       "...       ...       ...     ...       ...       ...   ...    ...        ...\n",
       "2705      ROU   SMOKERS     TOT  PC_POP15         A  2014   19.8        NaN\n",
       "2706      ROU   SMOKERS     TOT  PC_POP15         A  2019   18.7        NaN\n",
       "2707      ROU   SMOKERS   WOMEN  PC_POP15         A  2008    9.1        NaN\n",
       "2708      ROU   SMOKERS   WOMEN  PC_POP15         A  2014    8.3        NaN\n",
       "2709      ROU   SMOKERS   WOMEN  PC_POP15         A  2019    7.5        NaN\n",
       "\n",
       "[2710 rows x 8 columns]"
      ]
     },
     "execution_count": 3,
     "metadata": {},
     "output_type": "execute_result"
    }
   ],
   "source": [
    "smokers"
   ]
  },
  {
   "cell_type": "code",
   "execution_count": 5,
   "id": "7348ad5e",
   "metadata": {},
   "outputs": [],
   "source": [
    "smokers.drop('Flag Codes', axis=1, inplace=True)"
   ]
  },
  {
   "cell_type": "code",
   "execution_count": 6,
   "id": "4a156cbc",
   "metadata": {},
   "outputs": [
    {
     "name": "stdout",
     "output_type": "stream",
     "text": [
      "<class 'pandas.core.frame.DataFrame'>\n",
      "RangeIndex: 2710 entries, 0 to 2709\n",
      "Data columns (total 7 columns):\n",
      " #   Column     Non-Null Count  Dtype  \n",
      "---  ------     --------------  -----  \n",
      " 0   LOCATION   2710 non-null   object \n",
      " 1   INDICATOR  2710 non-null   object \n",
      " 2   SUBJECT    2710 non-null   object \n",
      " 3   MEASURE    2710 non-null   object \n",
      " 4   FREQUENCY  2710 non-null   object \n",
      " 5   TIME       2710 non-null   int64  \n",
      " 6   Value      2710 non-null   float64\n",
      "dtypes: float64(1), int64(1), object(5)\n",
      "memory usage: 148.3+ KB\n"
     ]
    }
   ],
   "source": [
    "smokers.info()"
   ]
  },
  {
   "cell_type": "code",
   "execution_count": 7,
   "id": "e310ef73",
   "metadata": {},
   "outputs": [
    {
     "data": {
      "text/plain": [
       "LOCATION     0\n",
       "INDICATOR    0\n",
       "SUBJECT      0\n",
       "MEASURE      0\n",
       "FREQUENCY    0\n",
       "TIME         0\n",
       "Value        0\n",
       "dtype: int64"
      ]
     },
     "execution_count": 7,
     "metadata": {},
     "output_type": "execute_result"
    }
   ],
   "source": [
    "smokers.isna().sum()"
   ]
  }
 ],
 "metadata": {
  "kernelspec": {
   "display_name": "Python 3 (ipykernel)",
   "language": "python",
   "name": "python3"
  },
  "language_info": {
   "codemirror_mode": {
    "name": "ipython",
    "version": 3
   },
   "file_extension": ".py",
   "mimetype": "text/x-python",
   "name": "python",
   "nbconvert_exporter": "python",
   "pygments_lexer": "ipython3",
   "version": "3.11.4"
  }
 },
 "nbformat": 4,
 "nbformat_minor": 5
}
