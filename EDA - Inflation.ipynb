{
 "cells": [
  {
   "cell_type": "markdown",
   "metadata": {},
   "source": [
    "# Data Visualization\n",
    "### Activity 2 -Exploratory Data Analysis I\n",
    "24th November 2023 <br> Fall 2023\n",
    "\n",
    "---\n",
    "### **Group 36:**\n",
    "Tomás Bensimon - 43022 <br>\n",
    "Cristina Tiago - 58636 <br>\n",
    "Martim Esteves - 46953 <br>\n",
    "\n",
    "---\n",
    "\n",
    "### Imports & Setup"
   ]
  },
  {
   "cell_type": "code",
   "execution_count": 43,
   "metadata": {
    "scrolled": true
   },
   "outputs": [
    {
     "data": {
      "text/html": [
       "<svg  width=\"275\" height=\"55\"><rect x=\"0\" y=\"0\" width=\"55\" height=\"55\" style=\"fill:#15291c;stroke-width:2;stroke:rgb(255,255,255)\"/><rect x=\"55\" y=\"0\" width=\"55\" height=\"55\" style=\"fill:#5e5361;stroke-width:2;stroke:rgb(255,255,255)\"/><rect x=\"110\" y=\"0\" width=\"55\" height=\"55\" style=\"fill:#a697b0;stroke-width:2;stroke:rgb(255,255,255)\"/><rect x=\"165\" y=\"0\" width=\"55\" height=\"55\" style=\"fill:#ebe9ec;stroke-width:2;stroke:rgb(255,255,255)\"/><rect x=\"220\" y=\"0\" width=\"55\" height=\"55\" style=\"fill:#97b9c0;stroke-width:2;stroke:rgb(255,255,255)\"/></svg>"
      ],
      "text/plain": [
       "[(0.08235294117647059, 0.1607843137254902, 0.10980392156862745),\n",
       " (0.3686274509803922, 0.3254901960784314, 0.3803921568627451),\n",
       " (0.6509803921568628, 0.592156862745098, 0.6901960784313725),\n",
       " (0.9215686274509803, 0.9137254901960784, 0.9254901960784314),\n",
       " (0.592156862745098, 0.7254901960784313, 0.7529411764705882)]"
      ]
     },
     "metadata": {},
     "output_type": "display_data"
    },
    {
     "data": {
      "text/html": [
       "<svg  width=\"275\" height=\"55\"><rect x=\"0\" y=\"0\" width=\"55\" height=\"55\" style=\"fill:#edf8fb;stroke-width:2;stroke:rgb(255,255,255)\"/><rect x=\"55\" y=\"0\" width=\"55\" height=\"55\" style=\"fill:#b3cde3;stroke-width:2;stroke:rgb(255,255,255)\"/><rect x=\"110\" y=\"0\" width=\"55\" height=\"55\" style=\"fill:#8c96c6;stroke-width:2;stroke:rgb(255,255,255)\"/><rect x=\"165\" y=\"0\" width=\"55\" height=\"55\" style=\"fill:#8856a7;stroke-width:2;stroke:rgb(255,255,255)\"/><rect x=\"220\" y=\"0\" width=\"55\" height=\"55\" style=\"fill:#810f7c;stroke-width:2;stroke:rgb(255,255,255)\"/></svg>"
      ],
      "text/plain": [
       "[(0.9294117647058824, 0.9725490196078431, 0.984313725490196),\n",
       " (0.7019607843137254, 0.803921568627451, 0.8901960784313725),\n",
       " (0.5490196078431373, 0.5882352941176471, 0.7764705882352941),\n",
       " (0.5333333333333333, 0.33725490196078434, 0.6549019607843137),\n",
       " (0.5058823529411764, 0.058823529411764705, 0.48627450980392156)]"
      ]
     },
     "metadata": {},
     "output_type": "display_data"
    }
   ],
   "source": [
    "import os\n",
    "path = os.path.join(os.getcwd(), 'Dataset')\n",
    "\n",
    "import numpy as np\n",
    "import pandas as pd\n",
    "pd.set_option('display.float_format', '{:.2f}'.format)\n",
    "\n",
    "import matplotlib.pyplot as plt\n",
    "import seaborn as sns\n",
    "\n",
    "# Color Setup\n",
    "\n",
    "color_pallete = [\"#15291C\", \"#5E5361\", \"#A697B0\", \"#EBE9EC\",\n",
    "                 \"#97B9C0\"]\n",
    "color_pallete2 = [\"#edf8fb\", \"#b3cde3\", \"#8c96c6\", \"#8856a7\",\n",
    "                 \"#810f7c\"]\n",
    "sns.set_style(\"dark\")\n",
    "display(sns.color_palette(color_pallete))\n",
    "display(sns.color_palette(color_pallete2))\n",
    "sns.set_palette(sns.color_palette(color_pallete))"
   ]
  },
  {
   "cell_type": "code",
   "execution_count": 44,
   "metadata": {},
   "outputs": [
    {
     "name": "stdout",
     "output_type": "stream",
     "text": [
      "Total number of countries and territories: 266\n"
     ]
    },
    {
     "data": {
      "text/html": [
       "<div>\n",
       "<style scoped>\n",
       "    .dataframe tbody tr th:only-of-type {\n",
       "        vertical-align: middle;\n",
       "    }\n",
       "\n",
       "    .dataframe tbody tr th {\n",
       "        vertical-align: top;\n",
       "    }\n",
       "\n",
       "    .dataframe thead th {\n",
       "        text-align: right;\n",
       "    }\n",
       "</style>\n",
       "<table border=\"1\" class=\"dataframe\">\n",
       "  <thead>\n",
       "    <tr style=\"text-align: right;\">\n",
       "      <th></th>\n",
       "      <th>Country Name</th>\n",
       "      <th>Country Code</th>\n",
       "      <th>Year</th>\n",
       "      <th>Rate</th>\n",
       "    </tr>\n",
       "  </thead>\n",
       "  <tbody>\n",
       "    <tr>\n",
       "      <th>0</th>\n",
       "      <td>Aruba</td>\n",
       "      <td>ABW</td>\n",
       "      <td>1960</td>\n",
       "      <td>NaN</td>\n",
       "    </tr>\n",
       "    <tr>\n",
       "      <th>1</th>\n",
       "      <td>Africa Eastern and Southern</td>\n",
       "      <td>AFE</td>\n",
       "      <td>1960</td>\n",
       "      <td>NaN</td>\n",
       "    </tr>\n",
       "    <tr>\n",
       "      <th>2</th>\n",
       "      <td>Afghanistan</td>\n",
       "      <td>AFG</td>\n",
       "      <td>1960</td>\n",
       "      <td>NaN</td>\n",
       "    </tr>\n",
       "    <tr>\n",
       "      <th>3</th>\n",
       "      <td>Africa Western and Central</td>\n",
       "      <td>AFW</td>\n",
       "      <td>1960</td>\n",
       "      <td>NaN</td>\n",
       "    </tr>\n",
       "    <tr>\n",
       "      <th>4</th>\n",
       "      <td>Angola</td>\n",
       "      <td>AGO</td>\n",
       "      <td>1960</td>\n",
       "      <td>NaN</td>\n",
       "    </tr>\n",
       "  </tbody>\n",
       "</table>\n",
       "</div>"
      ],
      "text/plain": [
       "                  Country Name Country Code  Year  Rate\n",
       "0                        Aruba          ABW  1960   NaN\n",
       "1  Africa Eastern and Southern          AFE  1960   NaN\n",
       "2                  Afghanistan          AFG  1960   NaN\n",
       "3   Africa Western and Central          AFW  1960   NaN\n",
       "4                       Angola          AGO  1960   NaN"
      ]
     },
     "execution_count": 44,
     "metadata": {},
     "output_type": "execute_result"
    }
   ],
   "source": [
    "inflation = pd.read_csv('inflation.csv')\n",
    "drop_cols = [\"Indicator Name\", \"Indicator Code\"]\n",
    "inflation.drop(drop_cols, axis=1, inplace=True)\n",
    "\n",
    "inflation = pd.melt(inflation, id_vars=['Country Name','Country Code'], var_name='Year', value_name='Rate')\n",
    "\n",
    "print(f'Total number of countries and territories: {inflation[\"Country Name\"].nunique()}')\n",
    "inflation.head()\n"
   ]
  },
  {
   "cell_type": "markdown",
   "metadata": {},
   "source": [
    "### General Data Exploration"
   ]
  },
  {
   "cell_type": "code",
   "execution_count": 45,
   "metadata": {},
   "outputs": [
    {
     "name": "stdout",
     "output_type": "stream",
     "text": [
      "Inflation -  16492 rows and 4 columns\n"
     ]
    }
   ],
   "source": [
    "print('Inflation - ', inflation.shape[0], 'rows and', inflation.shape[1], 'columns')"
   ]
  },
  {
   "cell_type": "code",
   "execution_count": 46,
   "metadata": {},
   "outputs": [
    {
     "name": "stdout",
     "output_type": "stream",
     "text": [
      "Country Name - object\n",
      "Country Code - object\n",
      "Year - object\n",
      "Rate - float64\n"
     ]
    }
   ],
   "source": [
    "for column in inflation.columns:\n",
    "    print(column, '-', inflation[column].dtype)"
   ]
  },
  {
   "cell_type": "markdown",
   "metadata": {},
   "source": [
    "### Missing Values"
   ]
  },
  {
   "cell_type": "code",
   "execution_count": 47,
   "metadata": {},
   "outputs": [
    {
     "name": "stdout",
     "output_type": "stream",
     "text": [
      "Country Name - 0\n",
      "Country Code - 0\n",
      "Year - 0\n",
      "Rate - 6003\n"
     ]
    }
   ],
   "source": [
    "for column in inflation.columns:\n",
    "    print(column, '-', inflation[column].isna().sum())"
   ]
  },
  {
   "cell_type": "markdown",
   "metadata": {},
   "source": [
    "### Intermediary Calculations\n",
    "- Age - Frequency Distribution"
   ]
  },
  {
   "cell_type": "code",
   "execution_count": 48,
   "metadata": {},
   "outputs": [
    {
     "data": {
      "text/plain": [
       "-18.11      1\n",
       "-17.64      1\n",
       "-16.12      1\n",
       "-13.17      1\n",
       "-13.06      1\n",
       "           ..\n",
       "4145.11     1\n",
       "4734.91     1\n",
       "7481.66     1\n",
       "11749.64    1\n",
       "23773.13    1\n",
       "Name: Rate, Length: 9306, dtype: int64"
      ]
     },
     "metadata": {},
     "output_type": "display_data"
    }
   ],
   "source": [
    "inflation_freq = inflation['Rate'].value_counts().sort_index()\n",
    "display(inflation_freq)"
   ]
  },
  {
   "cell_type": "markdown",
   "metadata": {},
   "source": [
    "- Age - Range, Outliers, nulls or invalids"
   ]
  },
  {
   "cell_type": "code",
   "execution_count": 49,
   "metadata": {},
   "outputs": [
    {
     "name": "stdout",
     "output_type": "stream",
     "text": [
      "Max Inflation Rate: 23773.13177 \n",
      "Min Inflation Rate: -18.10863013 \n",
      "Inflation Rate Range: 23791.24040013\n",
      "Q1: 2.348641696 \n",
      "Q2: 4.830950967 \n",
      "Q3: 9.711421109 \n",
      "IQR: 7.362779413 \n",
      "Number of Outliers: 884 (8.43%)\n"
     ]
    }
   ],
   "source": [
    "inflation_max = inflation['Rate'].max()\n",
    "inflation_min = inflation['Rate'].min()\n",
    "inflation_q1 = inflation['Rate'].quantile(0.25)\n",
    "inflation_q2 = inflation['Rate'].quantile(0.5)\n",
    "inflation_q3 = inflation['Rate'].quantile(0.75)\n",
    "inflation_iqr = inflation_q3 - inflation_q1\n",
    "inflation_outliers = inflation['Rate'][(inflation['Rate'] < inflation_q1 - 1.5 * inflation_iqr) | (inflation['Rate'] > inflation_q3 + 1.5 * inflation_iqr)].count()\n",
    "inflation_values_count = inflation['Rate'].isnull().sum()\n",
    "\n",
    "print('Max Inflation Rate:', inflation_max, '\\nMin Inflation Rate:', inflation_min, '\\nInflation Rate Range:', inflation_max - inflation_min)\n",
    "print('Q1:', inflation_q1, '\\nQ2:', inflation_q2, '\\nQ3:', inflation_q3, '\\nIQR:', inflation_iqr, '\\nNumber of Outliers:', inflation_outliers,\n",
    "       '({}%)'.format(round((inflation_outliers / inflation['Rate'].notna().sum()) * 100, 2)))"
   ]
  },
  {
   "cell_type": "markdown",
   "metadata": {},
   "source": [
    "### Plotting\n",
    "- Rate - Frequency Distribution"
   ]
  },
  {
   "cell_type": "code",
   "execution_count": 50,
   "metadata": {},
   "outputs": [
    {
     "data": {
      "text/plain": [
       "<AxesSubplot:xlabel='Rate', ylabel='Count'>"
      ]
     },
     "execution_count": 50,
     "metadata": {},
     "output_type": "execute_result"
    },
    {
     "data": {
      "image/png": "[encoded data removed]",
      "text/plain": [
       "<Figure size 432x288 with 1 Axes>"
      ]
     },
     "metadata": {},
     "output_type": "display_data"
    }
   ],
   "source": [
    "sns.histplot(data=inflation, x=inflation['Rate'], bins= 10, color=color_pallete[0], kde=True)"
   ]
  },
  {
   "cell_type": "code",
   "execution_count": 51,
   "metadata": {},
   "outputs": [
    {
     "name": "stdout",
     "output_type": "stream",
     "text": [
      "                 Country Name   Rate\n",
      "49           Congo, Dem. Rep. 675.85\n",
      "7                      Angola 381.43\n",
      "29                     Brazil 286.87\n",
      "26                    Bolivia 229.89\n",
      "250                   Ukraine 228.30\n",
      "..                        ...    ...\n",
      "227  St. Martin (French part)    NaN\n",
      "246              Turkmenistan    NaN\n",
      "247  Turks and Caicos Islands    NaN\n",
      "256                Uzbekistan    NaN\n",
      "260     Virgin Islands (U.S.)    NaN\n",
      "\n",
      "[266 rows x 2 columns]\n"
     ]
    }
   ],
   "source": [
    "average_inflation_by_country = inflation.groupby('Country Name')['Rate'].mean().reset_index()\n",
    "\n",
    "average_inflation_sorted = average_inflation_by_country.sort_values(by='Rate', ascending=False)\n",
    "\n",
    "print(average_inflation_sorted)"
   ]
  },
  {
   "cell_type": "markdown",
   "metadata": {},
   "source": [
    "- Age - Range, Outliers, nulls or invalids"
   ]
  },
  {
   "cell_type": "code",
   "execution_count": 52,
   "metadata": {},
   "outputs": [
    {
     "data": {
      "text/plain": [
       "<AxesSubplot:>"
      ]
     },
     "execution_count": 52,
     "metadata": {},
     "output_type": "execute_result"
    },
    {
     "data": {
      "image/png": "[encoded data removed]",
      "text/plain": [
       "<Figure size 504x360 with 1 Axes>"
      ]
     },
     "metadata": {},
     "output_type": "display_data"
    }
   ],
   "source": [
    "inflation['Rate'].plot(kind='box', figsize=(7, 5))"
   ]
  },
  {
   "cell_type": "code",
   "execution_count": 53,
   "metadata": {},
   "outputs": [
    {
     "data": {
      "text/plain": [
       "<AxesSubplot:ylabel='Rate'>"
      ]
     },
     "execution_count": 53,
     "metadata": {},
     "output_type": "execute_result"
    },
    {
     "data": {
      "image/png": "[encoded data removed]",
      "text/plain": [
       "<Figure size 504x360 with 1 Axes>"
      ]
     },
     "metadata": {},
     "output_type": "display_data"
    }
   ],
   "source": [
    "plt.figure(figsize=(7, 5))\n",
    "sns.boxplot(y=inflation['Rate'], data=inflation, width=0.5)"
   ]
  },
  {
   "cell_type": "code",
   "execution_count": 54,
   "metadata": {},
   "outputs": [
    {
     "data": {
      "image/png": "[encoded data removed]",
      "text/plain": [
       "<Figure size 864x432 with 1 Axes>"
      ]
     },
     "metadata": {},
     "output_type": "display_data"
    }
   ],
   "source": [
    "n = 5\n",
    "sampled_years = inflation['Year'].unique()[::n]\n",
    "\n",
    "plt.figure(figsize=(12, 6))\n",
    "sns.lineplot(data=inflation[inflation['Year'].isin(sampled_years)], x='Year', y='Rate', ci=None)\n",
    "plt.title('Inflation over the Years (Sampled)')\n",
    "plt.xlabel('Year')\n",
    "plt.ylabel('Inflation Rate')\n",
    "plt.show()"
   ]
  },
  {
   "cell_type": "markdown",
   "metadata": {},
   "source": [
    "### Data Cleaning"
   ]
  },
  {
   "cell_type": "code",
   "execution_count": 55,
   "metadata": {},
   "outputs": [],
   "source": [
    "Q1_inflation = inflation['Rate'].quantile(0.25)\n",
    "Q3_inflation = inflation['Rate'].quantile(0.75)\n",
    "IQR_inflation = Q3_inflation - Q1_inflation\n",
    "lower_bound_inflation = Q1_inflation - 1.5 * IQR_inflation\n",
    "upper_bound_inflation = Q3_inflation + 1.5 * IQR_inflation\n",
    "inflation_without_outliers = inflation[(inflation['Rate'] > lower_bound_inflation) & (inflation['Rate'] < upper_bound_inflation)]"
   ]
  },
  {
   "cell_type": "code",
   "execution_count": 56,
   "metadata": {},
   "outputs": [
    {
     "name": "stdout",
     "output_type": "stream",
     "text": [
      "Country Name       0\n",
      "Country Code       0\n",
      "Year               0\n",
      "Rate            6003\n",
      "dtype: int64\n"
     ]
    }
   ],
   "source": [
    "print(inflation.isnull().sum())"
   ]
  },
  {
   "cell_type": "code",
   "execution_count": 57,
   "metadata": {},
   "outputs": [
    {
     "name": "stdout",
     "output_type": "stream",
     "text": [
      "Country Name    0\n",
      "Country Code    0\n",
      "Year            0\n",
      "Rate            0\n",
      "dtype: int64\n"
     ]
    }
   ],
   "source": [
    "inflation['Rate'] = inflation.groupby('Country Code')['Rate'].transform(lambda x: x.fillna(x.median()))\n",
    "inflation['Rate'] = inflation['Rate'].fillna(inflation['Rate'].median())\n",
    "print(inflation.isnull().sum())"
   ]
  },
  {
   "cell_type": "code",
   "execution_count": 58,
   "metadata": {},
   "outputs": [],
   "source": [
    "inflation['Year'] = inflation['Year'].astype(int)"
   ]
  },
  {
   "cell_type": "code",
   "execution_count": 59,
   "metadata": {},
   "outputs": [
    {
     "name": "stdout",
     "output_type": "stream",
     "text": [
      "['Aruba' 'Africa Eastern and Southern' 'Afghanistan'\n",
      " 'Africa Western and Central' 'Angola' 'Albania' 'Andorra' 'Arab World'\n",
      " 'United Arab Emirates' 'Argentina' 'Armenia' 'American Samoa'\n",
      " 'Antigua and Barbuda' 'Australia' 'Austria' 'Azerbaijan' 'Burundi'\n",
      " 'Belgium' 'Benin' 'Burkina Faso' 'Bangladesh' 'Bulgaria' 'Bahrain'\n",
      " 'Bahamas, The' 'Bosnia and Herzegovina' 'Belarus' 'Belize' 'Bermuda'\n",
      " 'Bolivia' 'Brazil' 'Barbados' 'Brunei Darussalam' 'Bhutan' 'Botswana'\n",
      " 'Central African Republic' 'Canada' 'Central Europe and the Baltics'\n",
      " 'Switzerland' 'Channel Islands' 'Chile' 'China' \"Cote d'Ivoire\"\n",
      " 'Cameroon' 'Congo, Dem. Rep.' 'Congo, Rep.' 'Colombia' 'Comoros'\n",
      " 'Cabo Verde' 'Costa Rica' 'Caribbean small states' 'Cuba' 'Curacao'\n",
      " 'Cayman Islands' 'Cyprus' 'Czech Republic' 'Germany' 'Djibouti'\n",
      " 'Dominica' 'Denmark' 'Dominican Republic' 'Algeria'\n",
      " 'East Asia & Pacific (excluding high income)'\n",
      " 'Early-demographic dividend' 'East Asia & Pacific'\n",
      " 'Europe & Central Asia (excluding high income)' 'Europe & Central Asia'\n",
      " 'Ecuador' 'Egypt, Arab Rep.' 'Euro area' 'Eritrea' 'Spain' 'Estonia'\n",
      " 'Ethiopia' 'European Union' 'Fragile and conflict affected situations'\n",
      " 'Finland' 'Fiji' 'France' 'Faroe Islands' 'Micronesia, Fed. Sts.' 'Gabon'\n",
      " 'United Kingdom' 'Georgia' 'Ghana' 'Gibraltar' 'Guinea' 'Gambia, The'\n",
      " 'Guinea-Bissau' 'Equatorial Guinea' 'Greece' 'Grenada' 'Greenland'\n",
      " 'Guatemala' 'Guam' 'Guyana' 'High income' 'Hong Kong SAR, China'\n",
      " 'Honduras' 'Heavily indebted poor countries (HIPC)' 'Croatia' 'Haiti'\n",
      " 'Hungary' 'IBRD only' 'IDA & IBRD total' 'IDA total' 'IDA blend'\n",
      " 'Indonesia' 'IDA only' 'Isle of Man' 'India' 'Not classified' 'Ireland'\n",
      " 'Iran, Islamic Rep.' 'Iraq' 'Iceland' 'Israel' 'Italy' 'Jamaica' 'Jordan'\n",
      " 'Japan' 'Kazakhstan' 'Kenya' 'Kyrgyz Republic' 'Cambodia' 'Kiribati'\n",
      " 'St. Kitts and Nevis' 'Korea, Rep.' 'Kuwait'\n",
      " 'Latin America & Caribbean (excluding high income)' 'Lao PDR' 'Lebanon'\n",
      " 'Liberia' 'Libya' 'St. Lucia' 'Latin America & Caribbean'\n",
      " 'Least developed countries: UN classification' 'Low income'\n",
      " 'Liechtenstein' 'Sri Lanka' 'Lower middle income' 'Low & middle income'\n",
      " 'Lesotho' 'Late-demographic dividend' 'Lithuania' 'Luxembourg' 'Latvia'\n",
      " 'Macao SAR, China' 'St. Martin (French part)' 'Morocco' 'Monaco'\n",
      " 'Moldova' 'Madagascar' 'Maldives' 'Middle East & North Africa' 'Mexico'\n",
      " 'Marshall Islands' 'Middle income' 'North Macedonia' 'Mali' 'Malta'\n",
      " 'Myanmar' 'Middle East & North Africa (excluding high income)'\n",
      " 'Montenegro' 'Mongolia' 'Northern Mariana Islands' 'Mozambique'\n",
      " 'Mauritania' 'Mauritius' 'Malawi' 'Malaysia' 'North America' 'Namibia'\n",
      " 'New Caledonia' 'Niger' 'Nigeria' 'Nicaragua' 'Netherlands' 'Norway'\n",
      " 'Nepal' 'Nauru' 'New Zealand' 'OECD members' 'Oman' 'Other small states'\n",
      " 'Pakistan' 'Panama' 'Peru' 'Philippines' 'Palau' 'Papua New Guinea'\n",
      " 'Poland' 'Pre-demographic dividend' 'Puerto Rico'\n",
      " \"Korea, Dem. People's Rep.\" 'Portugal' 'Paraguay' 'West Bank and Gaza'\n",
      " 'Pacific island small states' 'Post-demographic dividend'\n",
      " 'French Polynesia' 'Qatar' 'Romania' 'Russian Federation' 'Rwanda'\n",
      " 'South Asia' 'Saudi Arabia' 'Sudan' 'Senegal' 'Singapore'\n",
      " 'Solomon Islands' 'Sierra Leone' 'El Salvador' 'San Marino' 'Somalia'\n",
      " 'Serbia' 'Sub-Saharan Africa (excluding high income)' 'South Sudan'\n",
      " 'Sub-Saharan Africa' 'Small states' 'Sao Tome and Principe' 'Suriname'\n",
      " 'Slovak Republic' 'Slovenia' 'Sweden' 'Eswatini'\n",
      " 'Sint Maarten (Dutch part)' 'Seychelles' 'Syrian Arab Republic'\n",
      " 'Turks and Caicos Islands' 'Chad'\n",
      " 'East Asia & Pacific (IDA & IBRD countries)'\n",
      " 'Europe & Central Asia (IDA & IBRD countries)' 'Togo' 'Thailand'\n",
      " 'Tajikistan' 'Turkmenistan'\n",
      " 'Latin America & the Caribbean (IDA & IBRD countries)' 'Timor-Leste'\n",
      " 'Middle East & North Africa (IDA & IBRD countries)' 'Tonga'\n",
      " 'South Asia (IDA & IBRD)' 'Sub-Saharan Africa (IDA & IBRD countries)'\n",
      " 'Trinidad and Tobago' 'Tunisia' 'Turkiye' 'Tuvalu' 'Tanzania' 'Uganda'\n",
      " 'Ukraine' 'Upper middle income' 'Uruguay' 'United States' 'Uzbekistan'\n",
      " 'St. Vincent and the Grenadines' 'Venezuela, RB' 'British Virgin Islands'\n",
      " 'Virgin Islands (U.S.)' 'Vietnam' 'Vanuatu' 'World' 'Samoa' 'Kosovo'\n",
      " 'Yemen, Rep.' 'South Africa' 'Zambia' 'Zimbabwe']\n"
     ]
    }
   ],
   "source": [
    "print(inflation['Country Name'].unique())"
   ]
  },
  {
   "cell_type": "code",
   "execution_count": 60,
   "metadata": {},
   "outputs": [],
   "source": [
    "inflation.to_csv('inflation_data.csv', index=False)"
   ]
  },
  {
   "cell_type": "code",
   "execution_count": null,
   "metadata": {},
   "outputs": [],
   "source": []
  }
 ],
 "metadata": {
  "kernelspec": {
   "display_name": "Python 3 (ipykernel)",
   "language": "python",
   "name": "python3"
  },
  "language_info": {
   "codemirror_mode": {
    "name": "ipython",
    "version": 3
   },
   "file_extension": ".py",
   "mimetype": "text/x-python",
   "name": "python",
   "nbconvert_exporter": "python",
   "pygments_lexer": "ipython3",
   "version": "3.9.7"
  }
 },
 "nbformat": 4,
 "nbformat_minor": 2
}
